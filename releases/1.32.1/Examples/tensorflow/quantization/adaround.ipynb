{
 "cells": [
  {
   "cell_type": "markdown",
   "metadata": {
    "collapsed": false
   },
   "source": [
    "# Adaptive Rounding (AdaRound)\n",
    "This notebook shows a working code example of how to use AIMET to perform Adaptive Rounding (AdaRound).\n",
    "\n",
    "AIMET quantization features typically use the \"nearest rounding\" technique for achieving quantization.\n",
    "When using the \"nearest rounding\" technique, the weight value is quantized to the nearest integer value.\n",
    "\n",
    "AdaRound optimizes a loss function using unlabeled training data to decide whether to quantize a specific weight to the closer integer value or the farther one.\n",
    "Using AdaRound quantization, a model is able to achieve an accuracy closer to the FP32 model, while using low bit-width integer quantization.\n",
    "\n",
    "#### Overall flow\n",
    "This notebook covers the following:\n",
    "1. Instantiate the example evaluation and training pipeline\n",
    "2. Load the FP32 model and evaluate the model to find the baseline FP32 accuracy\n",
    "3. Create a quantization simulation model (with fake quantization ops inserted) and evaluate this simuation model to get a quantized accuracy score\n",
    "4. Apply AdaRound and evaluate the simulation model to get a post-finetuned quantized accuracy score\n",
    "\n",
    "#### What this notebook is not\n",
    "* This notebook is not designed to show state-of-the-art results\n",
    "* For example, it uses a relatively quantization-friendly model like Resnet50\n",
    "* Also, some optimization parameters are deliberately chosen to have the notebook execute more quickly"
   ]
  },
  {
   "cell_type": "markdown",
   "metadata": {
    "collapsed": false
   },
   "source": [
    "---\n",
    "## Dataset\n",
    "\n",
    "This notebook relies on the ImageNet dataset for the task of image classification.\n",
    "If you already have a version of the dataset readily available, use that.\n",
    "Otherwise, download the dataset from an appropriate location (e.g. https://image-net.org/challenges/LSVRC/2012/index.php#) and convert them into tfrecords.\n",
    "\n",
    "**Note1**: The dataloader provided in this example notebook relies on the ImageNet tfrecords dataset having the following characteristics:\n",
    "- A folder containing tfrecords files starting with **'train\\*'** for training files and **'valid\\*'** for validation files.\n",
    "- Each tfrecord file should have features: **'image/encoded'** for image data and **'image/class/label'** for its corresponding class.\n",
    "\n",
    "**Note2**: To speed up the execution of this notebook, you may use a reduced subset of the ImageNet dataset.\n",
    "E.g. the entire ILSVRC2012 dataset has 1000 classes, 1000 training samples per class and 50 validation samples per class.\n",
    "For the purpose of running this notebook, you could reduce the dataset to 2 samples per class and then convert it into tfrecords.\n",
    "This exercise is left up to the reader and is not necessary.\n",
    "\n",
    "Edit the cell below and specify the directory where the downloaded ImageNet dataset is saved."
   ]
  },
  {
   "cell_type": "code",
   "execution_count": null,
   "metadata": {
    "collapsed": false,
    "pycharm": {
     "name": "#%%\n"
    }
   },
   "outputs": [],
   "source": [
    "TFRECORDS_DIR = '/path/to/dataset/'        # Please replace this with a real directory"
   ]
  },
  {
   "cell_type": "markdown",
   "metadata": {
    "collapsed": false
   },
   "source": [
    "We disable logs at the INFO level and disable eager execution.\n",
    "We set verbosity to the level as displayed (ERROR), so TensorFlow will display all messages that have the label ERROR (or more critical)."
   ]
  },
  {
   "cell_type": "code",
   "execution_count": null,
   "metadata": {
    "collapsed": false,
    "pycharm": {
     "name": "#%%\n"
    }
   },
   "outputs": [],
   "source": [
    "import os\n",
    "os.environ['TF_CPP_MIN_LOG_LEVEL'] = '2'\n",
    "\n",
    "import tensorflow.compat.v1 as tf\n",
    "tf.disable_eager_execution()\n",
    "tf.logging.set_verbosity(tf.logging.ERROR)"
   ]
  },
  {
   "cell_type": "markdown",
   "metadata": {
    "collapsed": false
   },
   "source": [
    "---\n",
    "## 1. Example Evaluation and Training Pipeline\n",
    "\n",
    "The following is an example training and validation loop for this image classification task.\n",
    "\n",
    "- **Does AIMET have any limitations on how the training, validation pipeline is written?**\n",
    "\n",
    "    Not really. We will see later that AIMET will modify the user's model to create a QuantizationSim model which is still a TensorFlow model.\n",
    "    This QuantizationSim model can be used in place of the original model when doing inference or training.\n",
    "\n",
    "- **Does AIMET put any limitation on the interface of the evaluate() or train() methods?**\n",
    "\n",
    "    Not really. You should be able to use your existing evaluate and train routines as-is.\n"
   ]
  },
  {
   "cell_type": "code",
   "execution_count": null,
   "metadata": {
    "collapsed": false,
    "pycharm": {
     "name": "#%%\n"
    }
   },
   "outputs": [],
   "source": [
    "from typing import List\n",
    "\n",
    "from Examples.common import image_net_config\n",
    "from Examples.tensorflow.utils.image_net_evaluator import ImageNetDataLoader\n",
    "from Examples.tensorflow.utils.image_net_evaluator import ImageNetEvaluator\n",
    "from Examples.tensorflow.utils.image_net_trainer import ImageNetTrainer\n",
    "\n",
    "class ImageNetDataPipeline:\n",
    "    \"\"\"\n",
    "    Provides APIs for model evaluation and finetuning using ImageNet Dataset.\n",
    "    \"\"\"\n",
    "\n",
    "    @staticmethod\n",
    "    def get_val_dataloader():\n",
    "        \"\"\"\n",
    "        Instantiates a validation dataloader for ImageNet dataset and returns it\n",
    "        \"\"\"\n",
    "        data_loader = ImageNetDataLoader(TFRECORDS_DIR,\n",
    "                                         image_size=image_net_config.dataset['image_size'],\n",
    "                                         batch_size=image_net_config.evaluation['batch_size'],\n",
    "                                         format_bgr=True)\n",
    "\n",
    "        return data_loader\n",
    "\n",
    "    @staticmethod\n",
    "    def evaluate(sess: tf.Session) -> float:\n",
    "        \"\"\"\n",
    "        Given a TF session, evaluates its Top-1 accuracy on the validation dataset\n",
    "        :param sess: The sess graph to be evaluated.\n",
    "        :return: The accuracy for the sample with the maximum accuracy.\n",
    "        \"\"\"\n",
    "        evaluator = ImageNetEvaluator(TFRECORDS_DIR, training_inputs=['keras_learning_phase:0'],\n",
    "                                      data_inputs=['input_1:0'], validation_inputs=['labels:0'],\n",
    "                                      image_size=image_net_config.dataset['image_size'],\n",
    "                                      batch_size=image_net_config.evaluation['batch_size'],\n",
    "                                      format_bgr=True)\n",
    "\n",
    "        return evaluator.evaluate(sess)\n",
    "\n",
    "\n",
    "    @staticmethod\n",
    "    def finetune(sess: tf.Session, update_ops_name: List[str], epochs: int, learning_rate: float, decay_steps: int):\n",
    "        \"\"\"\n",
    "        Given a TF session, finetunes it to improve its accuracy\n",
    "        :param sess: The sess graph to fine-tune.\n",
    "        :param update_ops_name: list of name of update ops (mostly BatchNorms' moving averages).\n",
    "                                tf.GraphKeys.UPDATE_OPS collections is always used\n",
    "                                in addition to this list\n",
    "        :param epochs: The number of epochs used during the finetuning step.\n",
    "        :param learning_rate: The learning rate used during the finetuning step.\n",
    "        :param decay_steps: A number used to adjust(decay) the learning rate after every decay_steps epochs in training.\n",
    "        \"\"\"\n",
    "        trainer = ImageNetTrainer(TFRECORDS_DIR, training_inputs=['keras_learning_phase:0'],\n",
    "                                  data_inputs=['input_1:0'], validation_inputs=['labels:0'],\n",
    "                                  image_size=image_net_config.dataset['image_size'],\n",
    "                                  batch_size=image_net_config.train['batch_size'],\n",
    "                                  num_epochs=epochs, format_bgr=True)\n",
    "\n",
    "        trainer.train(sess, update_ops_name=update_ops_name, learning_rate=learning_rate, decay_steps=decay_steps)\n"
   ]
  },
  {
   "cell_type": "markdown",
   "metadata": {
    "collapsed": false
   },
   "source": [
    "---\n",
    "## 2. Load the model and evaluate to get a baseline FP32 accuracy score"
   ]
  },
  {
   "cell_type": "markdown",
   "metadata": {
    "collapsed": false
   },
   "source": [
    "For this example notebook, we are going to load a pretrained ResNet50 model from keras and covert it to a tensorflow session.\n",
    "Similarly, you can load any pretrained tensorflow model instead.\n",
    "\n",
    "Calling clear_session() releases the global state: this helps avoid clutter from old models and layers, especially when memory is limited.\n",
    "\n",
    "By default the update ops are placed in tf.GraphKeys.UPDATE_OPS, so they need to be added as a dependency to the train_op.\n",
    "Since batchnorm ops are folded, these need to be ignored during training."
   ]
  },
  {
   "cell_type": "code",
   "execution_count": null,
   "metadata": {
    "collapsed": false,
    "pycharm": {
     "name": "#%%\n"
    }
   },
   "outputs": [],
   "source": [
    "from tensorflow.compat.v1.keras.applications.resnet import ResNet50\n",
    "\n",
    "tf.keras.backend.clear_session()\n",
    "\n",
    "model = ResNet50(weights='imagenet', input_shape=(224, 224, 3))\n",
    "update_ops_name = [op.name for op in model.updates] # Used for finetuning"
   ]
  },
  {
   "cell_type": "markdown",
   "metadata": {
    "collapsed": false
   },
   "source": [
    "The following utility method in AIMET sets BN layers in the model to eval mode.\n",
    "This allows AIMET to more easily read the BN parameters from the graph.\n",
    "Eventually we will fold BN layers into adjacent conv layers."
   ]
  },
  {
   "cell_type": "code",
   "execution_count": null,
   "metadata": {
    "collapsed": false,
    "pycharm": {
     "name": "#%%\n"
    }
   },
   "outputs": [],
   "source": [
    "from aimet_tensorflow.utils.graph import update_keras_bn_ops_trainable_flag\n",
    "\n",
    "model = update_keras_bn_ops_trainable_flag(model, load_save_path=\"./\", trainable=False)"
   ]
  },
  {
   "cell_type": "markdown",
   "metadata": {
    "collapsed": false
   },
   "source": [
    "AIMET features currently support tensorflow sessions.\n",
    "**add_image_net_computational_nodes_in_graph** adds an output layer, softmax and loss functions to the Resnet50 model graph."
   ]
  },
  {
   "cell_type": "code",
   "execution_count": null,
   "metadata": {
    "collapsed": false,
    "pycharm": {
     "name": "#%%\n"
    }
   },
   "outputs": [],
   "source": [
    "from Examples.tensorflow.utils.add_computational_nodes_in_graph import add_image_net_computational_nodes_in_graph\n",
    "\n",
    "sess = tf.keras.backend.get_session()\n",
    "\n",
    "# Creates the computation graph of ResNet within the tensorflow session.\n",
    "add_image_net_computational_nodes_in_graph(sess, model.output.name, image_net_config.dataset['images_classes'])"
   ]
  },
  {
   "cell_type": "markdown",
   "metadata": {
    "collapsed": false
   },
   "source": [
    "Since all tensorflow input and output tensors have names, we identify the tensors needed by AIMET APIs here."
   ]
  },
  {
   "cell_type": "code",
   "execution_count": null,
   "metadata": {
    "collapsed": false,
    "pycharm": {
     "name": "#%%\n"
    }
   },
   "outputs": [],
   "source": [
    "starting_op_names = [model.input.name.split(\":\")[0]]\n",
    "output_op_names = [model.output.name.split(\":\")[0]]"
   ]
  },
  {
   "cell_type": "markdown",
   "metadata": {
    "collapsed": false
   },
   "source": [
    "We are checking if TensorFlow is using CPU or CUDA device.\n",
    "This example code will use CUDA if available in your current execution environment."
   ]
  },
  {
   "cell_type": "code",
   "execution_count": null,
   "metadata": {
    "collapsed": false,
    "pycharm": {
     "name": "#%%\n"
    }
   },
   "outputs": [],
   "source": [
    "use_cuda = tf.test.is_gpu_available(cuda_only=True)"
   ]
  },
  {
   "cell_type": "markdown",
   "metadata": {
    "collapsed": false
   },
   "source": [
    "---\n",
    "Let's determine the FP32 (floating point 32-bit) accuracy of this model using the evaluate() routine:"
   ]
  },
  {
   "cell_type": "code",
   "execution_count": null,
   "metadata": {
    "collapsed": false,
    "pycharm": {
     "name": "#%%\n"
    }
   },
   "outputs": [],
   "source": [
    "accuracy = ImageNetDataPipeline.evaluate(sess=sess)\n",
    "print(accuracy)"
   ]
  },
  {
   "cell_type": "markdown",
   "metadata": {
    "collapsed": false
   },
   "source": [
    "---\n",
    "## 3. Create a quantization simulation model and determine quantized accuracy\n",
    "\n",
    "## Fold Batch Normalization layers\n",
    "Before we determine the simulated quantized accuracy using QuantizationSimModel, we will fold the BatchNormalization (BN) layers in the model.\n",
    "These layers get folded into adjacent Convolutional layers. The BN layers that cannot be folded are left as they are.\n",
    "\n",
    "**Why do we need to this?**\n",
    "\n",
    "On quantized runtimes (like TFLite, SnapDragon Neural Processing SDK, etc.), it is a common practice to fold the BN layers.\n",
    "Doing so results in an inferences/sec speedup since unnecessary computation is avoided.\n",
    "\n",
    "From a floating point compute perspective, a BN-folded model is mathematically equivalent to a model with BN layers from an inference perspective, and produces the same accuracy.\n",
    "However, folding the BN layers can increase the range of the tensor values for the weight parameters of the adjacent layers.\n",
    "\n",
    "This can have a negative impact on the quantized accuracy of the model (especially when using INT8 or lower precision).\n",
    "We want to simulate that on-target behavior by doing BN folding here.\n",
    "\n",
    "The following code calls AIMET to fold the BN layers on the given model and returns a new session:"
   ]
  },
  {
   "cell_type": "code",
   "execution_count": null,
   "metadata": {
    "collapsed": false,
    "pycharm": {
     "name": "#%%\n"
    }
   },
   "outputs": [],
   "source": [
    "from aimet_tensorflow.batch_norm_fold import fold_all_batch_norms\n",
    "\n",
    "BN_folded_sess, _= fold_all_batch_norms(sess,\n",
    "                                        input_op_names=starting_op_names,\n",
    "                                        output_op_names=output_op_names)"
   ]
  },
  {
   "cell_type": "markdown",
   "metadata": {
    "collapsed": false
   },
   "source": [
    "## Create Quantization Sim Model\n",
    "\n",
    "Now we use AIMET to create a QuantizationSimModel.\n",
    "\n",
    "Before we create the QuantizationSimModel, we save and load a version of the BN folded session for QuantSim to use.\n",
    "QuantSim will insert fake quantization ops in the session passed into it, and we want to maintain a fresh copy of the BN folded session for use in AdaRound later."
   ]
  },
  {
   "cell_type": "code",
   "execution_count": null,
   "metadata": {
    "collapsed": false,
    "pycharm": {
     "name": "#%%\n"
    }
   },
   "outputs": [],
   "source": [
    "from aimet_tensorflow.utils.graph_saver import save_and_load_graph\n",
    "BN_folded_sess_copy = save_and_load_graph(\"output\", BN_folded_sess)"
   ]
  },
  {
   "cell_type": "markdown",
   "metadata": {
    "collapsed": false,
    "pycharm": {
     "name": "#%% md\n"
    }
   },
   "source": [
    "AIMET will insert fake quantization ops in the model graph and configure them.\n",
    "A few of the parameters are explained here:\n",
    "- **quant_scheme**:\n",
    "    - We set this to \"post_training_tf_enhanced\"\n",
    "      With this choice of quant scheme, AIMET will use the TF Enhanced quant scheme to initialize the quantization parameters like scale/offset.\n",
    "- **default_output_bw**: Setting this to 8 means that we are asking AIMET to perform all activation quantizations in the model using integer 8-bit precision.\n",
    "- **default_param_bw**: Setting this to 8 means that we are asking AIMET to perform all parameter quantizations in the model using integer 8-bit precision.\n",
    "\n",
    "There are other parameters that are set to default values in this example.\n",
    "Please check the AIMET API documentation of QuantizationSimModel to see reference documentation for all the parameters."
   ]
  },
  {
   "cell_type": "code",
   "execution_count": null,
   "metadata": {
    "collapsed": false,
    "pycharm": {
     "name": "#%%\n"
    }
   },
   "outputs": [],
   "source": [
    "from aimet_common.defs import QuantScheme\n",
    "from aimet_tensorflow.quantsim import QuantizationSimModel\n",
    "\n",
    "sim = QuantizationSimModel(session=BN_folded_sess_copy,\n",
    "                           starting_op_names=starting_op_names,\n",
    "                           output_op_names=output_op_names,\n",
    "                           quant_scheme= QuantScheme.post_training_tf_enhanced,\n",
    "                           default_output_bw=8,\n",
    "                           default_param_bw=8,\n",
    "                           use_cuda=use_cuda)"
   ]
  },
  {
   "cell_type": "markdown",
   "metadata": {
    "collapsed": false
   },
   "source": [
    "---\n",
    "## Compute Encodings\n",
    "Even though AIMET has added 'quantizer' nodes to the model graph, the model is not ready to be used yet.\n",
    "Before we can use the sim model for inference or training, we need to find appropriate scale/offset quantization parameters for each 'quantizer' node.\n",
    "\n",
    "For activation quantization nodes, we need to pass unlabeled data samples through the model to collect range statistics which will then let AIMET calculate appropriate scale/offset quantization parameters.\n",
    "This process is sometimes referred to as calibration. AIMET simply refers to it as 'computing encodings'.\n",
    "\n",
    "We create a routine to pass unlabeled data samples through the model.\n",
    "This should be fairly simple - use the existing train or validation data loader to extract some samples and pass them to the model.\n",
    "We don't need to compute any loss metrics, so we can just ignore the model output. A few pointers regarding the data samples:\n",
    "\n",
    "- In practice, we need a very small percentage of the overall data samples for computing encodings.\n",
    "  For example, the training dataset for ImageNet has 1M samples. For computing encodings we only need 500 to 1000 samples.\n",
    "- It may be beneficial if the samples used for computing encoding are well distributed.\n",
    "  It's not necessary that all classes need to be covered since we are only looking at the range of values at every layer activation.\n",
    "  However, we definitely want to avoid an extreme scenario like all 'dark' or 'light' samples are used - e.g. only using pictures captured at night might not give ideal results.\n",
    "\n",
    "The following shows an example of a routine that passes unlabeled samples through the model for computing encodings.\n",
    "This routine can be written in many different ways, this is just an example."
   ]
  },
  {
   "cell_type": "code",
   "execution_count": null,
   "metadata": {
    "collapsed": false,
    "pycharm": {
     "name": "#%%\n"
    }
   },
   "outputs": [],
   "source": [
    "def pass_calibration_data(session: tf.Session, _):\n",
    "    data_loader = ImageNetDataPipeline.get_val_dataloader()\n",
    "    batch_size = data_loader.batch_size\n",
    "\n",
    "    input_label_tensors = [session.graph.get_tensor_by_name('input_1:0'),\n",
    "                           session.graph.get_tensor_by_name('labels:0')]\n",
    "\n",
    "    train_tensors = [session.graph.get_tensor_by_name('keras_learning_phase:0')]\n",
    "    train_tensors_dict = dict.fromkeys(train_tensors, False)\n",
    "\n",
    "    eval_outputs = [session.graph.get_operation_by_name('top1-acc').outputs[0]]\n",
    "\n",
    "    samples = 500\n",
    "\n",
    "    batch_cntr = 0\n",
    "    for input_label in data_loader:\n",
    "        input_label_tensors_dict = dict(zip(input_label_tensors, input_label))\n",
    "\n",
    "        feed_dict = {**input_label_tensors_dict, **train_tensors_dict}\n",
    "\n",
    "        with session.graph.as_default():\n",
    "            _ = session.run(eval_outputs, feed_dict=feed_dict)\n",
    "\n",
    "        batch_cntr += 1\n",
    "        if (batch_cntr * batch_size) > samples:\n",
    "            break\n"
   ]
  },
  {
   "cell_type": "markdown",
   "metadata": {
    "collapsed": false
   },
   "source": [
    "---\n",
    "Now we call AIMET to use the above routine to pass data through the model and then subsequently compute the quantization encodings.\n",
    "Encodings here refer to scale/offset quantization parameters."
   ]
  },
  {
   "cell_type": "code",
   "execution_count": null,
   "metadata": {
    "collapsed": false,
    "pycharm": {
     "name": "#%%\n"
    }
   },
   "outputs": [],
   "source": [
    "sim.compute_encodings(forward_pass_callback=pass_calibration_data,\n",
    "                      forward_pass_callback_args=None)"
   ]
  },
  {
   "cell_type": "markdown",
   "metadata": {
    "collapsed": false
   },
   "source": [
    "---\n",
    "Now the QuantizationSim model is ready to be used for inference or training.\n",
    "We can pass this model to the same evaluation routine we used before.\n",
    "The evaluation routine will now give us a simulated quantized accuracy score for INT8 quantization instead of the FP32 accuracy score we saw before."
   ]
  },
  {
   "cell_type": "code",
   "execution_count": null,
   "metadata": {
    "collapsed": false,
    "pycharm": {
     "name": "#%%\n"
    }
   },
   "outputs": [],
   "source": [
    "accuracy = ImageNetDataPipeline.evaluate(sim.session)\n",
    "print(accuracy)"
   ]
  },
  {
   "cell_type": "markdown",
   "metadata": {
    "collapsed": false,
    "pycharm": {
     "name": "#%% md\n"
    }
   },
   "source": [
    "---\n",
    "## 4. Apply AdaRound\n",
    "\n",
    "We can now apply AdaRound to this model.\n",
    "\n",
    "Some of the parameters for AdaRound are described below:\n",
    "\n",
    "- **data_loader:**  AdaRound needs a dataloader to use data samples for the layer-by-layer optimization to learn the rounding vectors.\n",
    "  Either a training or validation dataloader could be passed in.\n",
    "- **num_batches:** The number of batches used to evaluate the model while calculating the quantization encodings.\n",
    "  Typically we want AdaRound to use around 2000 samples. So with a batch size of 32, this translates to 64 batches.\n",
    "  To speed up the execution here we are using 5 batches.\n",
    "- **default_num_iterations:** The number of iterations to AdaRound each layer.\n",
    "  Default value is set to 10000 and we strongly recommend to not reduce this number.\n",
    "  But in this example we are using 32 to speed up the execution runtime.\n",
    "- **path:** The path where AdaRound parameter encodings are exported. Ensure that this folder exists prior to calling the API."
   ]
  },
  {
   "cell_type": "code",
   "execution_count": null,
   "metadata": {
    "collapsed": false,
    "pycharm": {
     "name": "#%%\n"
    }
   },
   "outputs": [],
   "source": [
    "from aimet_tensorflow.adaround.adaround_weight import Adaround\n",
    "from aimet_tensorflow.adaround.adaround_weight import AdaroundParameters\n",
    "\n",
    "num_batches = 5\n",
    "num_iterations = 32\n",
    "data_set = ImageNetDataPipeline.get_val_dataloader().dataset\n",
    "params = AdaroundParameters(data_set=data_set, num_batches=num_batches, default_num_iterations=num_iterations)\n",
    "ada_model = Adaround.apply_adaround(BN_folded_sess, starting_op_names=starting_op_names,\n",
    "                                    output_op_names=output_op_names, params=params,\n",
    "                                    path=\"output\", filename_prefix=\"adaround\", default_param_bw=8,\n",
    "                                    default_quant_scheme=QuantScheme.post_training_tf_enhanced)"
   ]
  },
  {
   "cell_type": "markdown",
   "metadata": {
    "collapsed": false
   },
   "source": [
    "---\n",
    "Now, we can determine the simulated quantized accuracy of the model after applying AdaRound.\n",
    "We again create a simulation model like before and evaluate to determine simulated quantized accuracy.\n",
    "\n",
    "**Note:** There are two important things to understand in the following cell.\n",
    "  - **Parameter Biwidth Precision**: The QuantizationSimModel must be created with the same parameter bitwidth precision that was used in the apply_adaround() created.\n",
    "\n",
    "  - **Freezing the parameter encodings**:\n",
    "After creating the QuantizationSimModel, the set_and_freeze_param_encodings() API must be called before calling the compute_encodings() API.\n",
    "While applying AdaRound, the parameter values have been rounded up or down based on these initial encodings internally created.\n",
    "For Quantization Simulation accuracy, it is important to freeze these encodings.\n",
    "If the parameters encodings are NOT frozen, the call to compute_encodings() will alter the value of the parameters encodings and Quantization Simulation accuracy will not reflect the AdaRounded accuracy."
   ]
  },
  {
   "cell_type": "code",
   "execution_count": null,
   "metadata": {
    "collapsed": false,
    "pycharm": {
     "name": "#%%\n"
    }
   },
   "outputs": [],
   "source": [
    "sim = QuantizationSimModel(session=ada_model,\n",
    "                           starting_op_names=starting_op_names,\n",
    "                           output_op_names=output_op_names,\n",
    "                           quant_scheme= QuantScheme.post_training_tf_enhanced,\n",
    "                           default_output_bw=8,\n",
    "                           default_param_bw=8,\n",
    "                           use_cuda=use_cuda)\n",
    "\n",
    "sim.set_and_freeze_param_encodings(encoding_path=os.path.join(\"output\", \"adaround.encodings\"))\n",
    "\n",
    "sim.compute_encodings(forward_pass_callback=pass_calibration_data,\n",
    "                      forward_pass_callback_args=None)"
   ]
  },
  {
   "cell_type": "markdown",
   "metadata": {
    "collapsed": false
   },
   "source": [
    "---\n",
    "Now the QuantizationSim model is ready to be used for inference.\n",
    "First we can pass this model to the same evaluation routine we used before.\n",
    "The evaluation routine will now give us a simulated quantized accuracy score for INT8 quantization, using the newly AdaRounded model with updated parameters."
   ]
  },
  {
   "cell_type": "code",
   "execution_count": null,
   "metadata": {
    "collapsed": false,
    "pycharm": {
     "name": "#%%\n"
    }
   },
   "outputs": [],
   "source": [
    "accuracy = ImageNetDataPipeline.evaluate(sim.session)\n",
    "print(accuracy)"
   ]
  },
  {
   "cell_type": "markdown",
   "metadata": {
    "collapsed": false
   },
   "source": [
    "---\n",
    "Depending on your settings you may have observed a slight gain in accuracy after applying AdaRound.\n",
    "The settings used in this notebook are designed only to serve as code examples, designed to run quickly, but may not be optimal.\n",
    "Please try this workflow against the model of your choice and play with the number of samples and other parameters to get the best results.\n",
    "\n",
    "The next step would be to take this model to target.\n",
    "We need to do two things:\n",
    "- export the model with the updated weights without the fake quantization ops\n",
    "- export the encodings (scale/offset quantization parameters).\n",
    "AIMET QuantizationSimModel provides an export API for this purpose."
   ]
  },
  {
   "cell_type": "code",
   "execution_count": null,
   "metadata": {
    "collapsed": false,
    "pycharm": {
     "name": "#%%\n"
    }
   },
   "outputs": [],
   "source": [
    "sim.export(path=\"./output/\", filename_prefix=\"resnet18_after_adaround\")"
   ]
  },
  {
   "cell_type": "markdown",
   "metadata": {
    "collapsed": false,
    "pycharm": {
     "name": "#%% md\n"
    }
   },
   "source": [
    "---\n",
    "## Summary\n",
    "\n",
    "This example illustrated how the AIMET AdaRound API is invoked to achieve post training quantization.\n",
    "To use AIMET AdaRound for your specific needs, replace the model with your model and replace the data pipeline with your data pipeline.\n",
    "As indicated above, some parameters in this example have been chosen in such a way to make this example execute faster.\n",
    "\n",
    "We hope this notebook was useful for you to understand how to use AIMET for performing AdaRound.\n",
    "\n",
    "A few additional resources:\n",
    "- Refer to the AIMET API docs to know more details of the APIs and optional parameters\n",
    "- Refer to the other example notebooks to understand how to use AIMET post-training quantization techniques and QAT techniques"
   ]
  }
 ],
 "metadata": {
  "kernelspec": {
   "display_name": "Python 3",
   "language": "python",
   "name": "python3"
  },
  "language_info": {
   "codemirror_mode": {
    "name": "ipython",
    "version": 2
   },
   "file_extension": ".py",
   "mimetype": "text/x-python",
   "name": "python",
   "nbconvert_exporter": "python",
   "pygments_lexer": "ipython2",
   "version": "2.7.6"
  }
 },
 "nbformat": 4,
 "nbformat_minor": 0
}
