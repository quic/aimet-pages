{
 "cells": [
  {
   "cell_type": "markdown",
   "id": "38bf01b3",
   "metadata": {},
   "source": [
    "# Cross-Layer Equalization (CLE) and Bias Correction (BC)\n",
    "\n",
    "This notebook showcases a working code example of how to use AIMET to apply Cross-Layer Equalization (CLE) and Bias Correction (BC). CLE and BC are post-training quantization techniques that aim to improve quantized accuracy of a given model. CLE does not need any data samples. BC may optionally need unlabelled data samples. These techniques help recover quantized accuracy when the model quantization is sensitive to parameter quantization as opposed to activation quantization.\n",
    "\n",
    "To learn more about this techniques, please refer to the \"Data-Free Quantization Through Weight Equalization and Bias Correction\" paper from ICCV 2019 - https://arxiv.org/abs/1906.04721\n",
    "\n",
    "**Cross-Layer Equalization**\n",
    "AIMET performs the following steps when running CLE:\n",
    "1. Batch Norm Folding: Folds BN layers into Conv layers immediate before or after the Conv layers.\n",
    "2. Cross-Layer Scaling: Given a set of consecutive Conv layers, equalizes the range of tensor values per-channel by scaling up/down per-channel weight tensor values of a layer and corresponding scaling down/up per-channel weight tensor values of the subsequent layer.\n",
    "3. High Bias Folding: Cross-layer scaling may result in high bias parameter values for some layers. This technique folds some of the bias of a layer into the subsequent layer's parameters.\n",
    "\n",
    "**Bias Correction**  \n",
    "Quantization sometimes leads to a shift in layer outputs. This techniques helps correct this shift by adjusting the bias parameters of that layer. Note that this technique is generally applied after CLE, but it is a optional step.\n",
    "\n",
    "\n",
    "#### Overall flow\n",
    "This notebook covers the following\n",
    "1. Instantiate the example evaluation and training pipeline\n",
    "2. Load the FP32 model and evaluate the model to find the baseline FP32 accuracy\n",
    "3. Create a quantization simulation model (with fake quantization ops inserted) and evaluate this simuation model to get a quantized accuracy score\n",
    "4. Apply CLE, BC and and evaluate the simulation model to get a post-finetuned quantized accuracy score\n",
    "\n",
    "\n",
    "#### What this notebook is not\n",
    "* This notebook is not designed to show state-of-the-art results. For example, it uses a relatively quantization-friendly model like Resnet18. Also, some optimization parameters are deliberately chosen to have the notebook execute more quickly.\n"
   ]
  },
  {
   "cell_type": "markdown",
   "id": "71116f26",
   "metadata": {},
   "source": [
    "---\n",
    "## Dataset\n",
    "\n",
    "This notebook relies on the ImageNet dataset for the task of image classification. If you already have a version of the dataset readily available, please use that. Else, please download the dataset from appropriate location (e.g. https://image-net.org/challenges/LSVRC/2012/index.php#) and convert them into tfrecords.\n",
    "\n",
    "**Note1**: The ImageNet tfrecords dataset typically has the following characteristics and the dataloader provided in this example notebook rely on these\n",
    "- A folder containing tfrecords files starting with **'train\\*'** for training files and **'valid\\*'** for validation files. Each tfrecord file should have features: **'image/encoded'** for image data and **'image/class/label'** for its corresponding class.\n",
    "\n",
    "**Note2**: To speed up the execution of this notebook, you may use a reduced subset of the ImageNet dataset. E.g. the entire ILSVRC2012 dataset has 1000 classes, 1000 training samples per class and 50 validation samples per class. But for the purpose of running this notebook, you could perhaps reduce the dataset to say 2 samples per class and then convert it into tfrecords. This exercise is left upto the reader and is not necessary.\n",
    "\n",
    "Edit the cell below and specify the directory where the downloaded ImageNet dataset is saved."
   ]
  },
  {
   "cell_type": "code",
   "execution_count": null,
   "id": "14eaf1d4",
   "metadata": {},
   "outputs": [],
   "source": [
    "DATASET_DIR = '/path/to/tfrecords/dir/'        # Please replace this with a real directory"
   ]
  },
  {
   "cell_type": "markdown",
   "id": "e08683fa",
   "metadata": {},
   "source": [
    "We disable logs at the INFO level and disable eager execution. We set verbosity to the level as displayed (ERORR), so TensorFlow will display all messages that have the label ERROR (or more critical)."
   ]
  },
  {
   "cell_type": "code",
   "execution_count": null,
   "id": "7b45d3c7",
   "metadata": {},
   "outputs": [],
   "source": [
    "import os\n",
    "os.environ['TF_CPP_MIN_LOG_LEVEL'] = '2'\n",
    "\n",
    "import tensorflow.compat.v1 as tf\n",
    "tf.disable_eager_execution()\n",
    "tf.logging.set_verbosity(tf.logging.ERROR)"
   ]
  },
  {
   "cell_type": "markdown",
   "id": "7b964ae2",
   "metadata": {},
   "source": [
    "---\n",
    "\n",
    "## 1. Example evaluation and training pipeline\n",
    "\n",
    "The following is an example training and validation loop for this image classification task.\n",
    "\n",
    "- **Does AIMET have any limitations on how the training, validation pipeline is written?** Not really. We will see later that AIMET will modify the user's model to create a QuantizationSim model which is still a PyTorch model. This QuantizationSim model can be used in place of the original model when doing inference or training.\n",
    "- **Does AIMET put any limitation on the interface of the evaluate() or train() methods?** Not really. You should be able to use your existing evaluate and train routines as-is.\n"
   ]
  },
  {
   "cell_type": "code",
   "execution_count": null,
   "id": "1ff778eb",
   "metadata": {},
   "outputs": [],
   "source": [
    "from typing import List\n",
    "\n",
    "from Examples.common import image_net_config\n",
    "from Examples.tensorflow.utils.image_net_evaluator import ImageNetDataLoader\n",
    "from Examples.tensorflow.utils.image_net_evaluator import ImageNetEvaluator\n",
    "from Examples.tensorflow.utils.image_net_trainer import ImageNetTrainer\n",
    "\n",
    "class ImageNetDataPipeline:\n",
    "    \"\"\"\n",
    "    Provides APIs for model evaluation and finetuning using ImageNet Dataset.\n",
    "    \"\"\"\n",
    "    \n",
    "    @staticmethod\n",
    "    def get_val_dataloader():\n",
    "        \"\"\"\n",
    "        Instantiates a validation dataloader for ImageNet dataset and returns it\n",
    "        \"\"\"\n",
    "        data_loader = ImageNetDataLoader(TFRECORDS_DIR,\n",
    "                                         image_size=image_net_config.dataset['image_size'],\n",
    "                                         batch_size=image_net_config.evaluation['batch_size'],\n",
    "                                         format_bgr=True)\n",
    "\n",
    "        return data_loader\n",
    "    \n",
    "    @staticmethod\n",
    "    def evaluate(sess: tf.Session) -> float:\n",
    "        \"\"\"\n",
    "        Given a TF session, evaluates its Top-1 accuracy on the validation dataset\n",
    "        :param sess: The sess graph to be evaluated.\n",
    "        :return: The accuracy for the sample with the maximum accuracy.\n",
    "        \"\"\"\n",
    "        evaluator = ImageNetEvaluator(TFRECORDS_DIR, training_inputs=['keras_learning_phase:0'],\n",
    "                                      data_inputs=['input_1:0'], validation_inputs=['labels:0'],\n",
    "                                      image_size=image_net_config.dataset['image_size'],\n",
    "                                      batch_size=image_net_config.evaluation['batch_size'],\n",
    "                                      format_bgr=True)\n",
    "\n",
    "        return evaluator.evaluate(sess)\n",
    "\n",
    "    \n",
    "    @staticmethod\n",
    "    def finetune(sess: tf.Session, update_ops_name: List[str], epochs: int, learning_rate: float, decay_steps: int):\n",
    "        \"\"\"\n",
    "        Given a TF session, finetunes it to improve its accuracy\n",
    "        :param sess: The sess graph to fine-tune.\n",
    "        :param update_ops_name: list of name of update ops (mostly BatchNorms' moving averages).\n",
    "                                tf.GraphKeys.UPDATE_OPS collections is always used\n",
    "                                in addition to this list\n",
    "        :param epochs: The number of epochs used during the finetuning step.\n",
    "        :param learning_rate: The learning rate used during the finetuning step.\n",
    "        :param decay_steps: A number used to adjust(decay) the learning rate after every decay_steps epochs in training.\n",
    "        \"\"\"\n",
    "        trainer = ImageNetTrainer(TFRECORDS_DIR, training_inputs=['keras_learning_phase:0'],\n",
    "                                  data_inputs=['input_1:0'], validation_inputs=['labels:0'],\n",
    "                                  image_size=image_net_config.dataset['image_size'],\n",
    "                                  batch_size=image_net_config.train['batch_size'],\n",
    "                                  num_epochs=epochs, format_bgr=True)\n",
    "\n",
    "        trainer.train(sess, update_ops_name=update_ops_name, learning_rate=learning_rate, decay_steps=decay_steps)\n"
   ]
  },
  {
   "cell_type": "markdown",
   "id": "1e7b31bf",
   "metadata": {},
   "source": [
    "---\n",
    "\n",
    "## 2. Load the model and evaluate to get a baseline FP32 accuracy score"
   ]
  },
  {
   "cell_type": "markdown",
   "id": "1d5e6074",
   "metadata": {},
   "source": [
    "For this example notebook, we are going to load a pretrained ResNet50 model from keras and covert it to a tensorflow session. Similarly, you can load any pretrained tensorflow model instead.\n",
    "\n",
    "\n",
    "Calling clear_session() releases the global state: this helps avoid clutter from old models and layers, especially when memory is limited.\n",
    "\n",
    "\n",
    "By default the update ops are placed in tf.GraphKeys.UPDATE_OPS, so they need to be added as a dependency to the train_op. Since batchnorm ops are folded, these need to be ignored during training."
   ]
  },
  {
   "cell_type": "code",
   "execution_count": null,
   "id": "de92a9d0",
   "metadata": {},
   "outputs": [],
   "source": [
    "from tensorflow.compat.v1.keras.applications.resnet import ResNet50\n",
    "\n",
    "tf.keras.backend.clear_session()\n",
    "\n",
    "model = ResNet50(weights='imagenet', input_shape=(224, 224, 3))\n",
    "update_ops_name = [op.name for op in model.updates] # Used for finetuning"
   ]
  },
  {
   "cell_type": "markdown",
   "id": "8c55a5be",
   "metadata": {},
   "source": [
    "The following utility method in AIMET sets BN layers in the model to eval mode. This allows AIMET to more easily read the BN parameters from the graph. Eventually we will fold BN layers into adjacent conv layers."
   ]
  },
  {
   "cell_type": "code",
   "execution_count": null,
   "id": "de9c180c",
   "metadata": {},
   "outputs": [],
   "source": [
    "from aimet_tensorflow.utils.graph import update_keras_bn_ops_trainable_flag\n",
    "\n",
    "model = update_keras_bn_ops_trainable_flag(model, load_save_path=\"./\", trainable=False)"
   ]
  },
  {
   "cell_type": "markdown",
   "id": "c97b5289",
   "metadata": {},
   "source": [
    "AIMET features currently support tensorflow sessions. **add_image_net_computational_nodes_in_graph** adds an output layer, softmax and loss functions to the Resnet50 model graph."
   ]
  },
  {
   "cell_type": "code",
   "execution_count": null,
   "id": "a55dee2c",
   "metadata": {},
   "outputs": [],
   "source": [
    "from Examples.tensorflow.utils.add_computational_nodes_in_graph import add_image_net_computational_nodes_in_graph\n",
    "\n",
    "sess = tf.keras.backend.get_session()\n",
    "\n",
    "# Creates the computation graph of ResNet within the tensorflow session.\n",
    "add_image_net_computational_nodes_in_graph(sess, model.output.name, image_net_config.dataset['images_classes'])"
   ]
  },
  {
   "cell_type": "markdown",
   "id": "bc385ad9",
   "metadata": {},
   "source": [
    "Since all tensorflow input and output tensors have names, we identify the tensors needed by AIMET APIs here. "
   ]
  },
  {
   "cell_type": "code",
   "execution_count": null,
   "id": "91368424",
   "metadata": {},
   "outputs": [],
   "source": [
    "starting_op_names = [model.input.name.split(\":\")[0]]\n",
    "output_op_names = [model.output.name.split(\":\")[0]]"
   ]
  },
  {
   "cell_type": "markdown",
   "id": "712344c8",
   "metadata": {},
   "source": [
    "We are checking if TensorFlow is using CPU or CUDA device. This example code will use CUDA if available in your current execution environment."
   ]
  },
  {
   "cell_type": "code",
   "execution_count": null,
   "id": "12e8ae6c",
   "metadata": {},
   "outputs": [],
   "source": [
    "use_cuda = tf.test.is_gpu_available(cuda_only=True):"
   ]
  },
  {
   "cell_type": "markdown",
   "id": "050b6187",
   "metadata": {},
   "source": [
    "---\n",
    "Let's determine the FP32 (floating point 32-bit) accuracy of this model using the evaluate() routine"
   ]
  },
  {
   "cell_type": "code",
   "execution_count": null,
   "id": "b1b7c11b",
   "metadata": {},
   "outputs": [],
   "source": [
    "accuracy = ImageNetDataPipeline.evaluate(sess=sess)\n",
    "print(accuracy)"
   ]
  },
  {
   "cell_type": "markdown",
   "id": "d4962c07",
   "metadata": {},
   "source": [
    "---\n",
    "## 3. Create a quantization simulation model and determine quantized accuracy\n",
    "\n",
    "## Fold Batch Normalization layers\n",
    "Before we determine the simulated quantized accuracy using QuantizationSimModel, we will fold the BatchNormalization (BN) layers in the model. These layers get folded into adjacent Convolutional layers. The BN layers that cannot be folded are left as they are.\n",
    "\n",
    "**Why do we need to this?**\n",
    "On quantized runtimes (like TFLite, SnapDragon Neural Processing SDK, etc.), it is a common practice to fold the BN layers. Doing so, results in an inferences/sec speedup since unnecessary computation is avoided. Now from a floating point compute perspective, a BN-folded model is mathematically equivalent to a model with BN layers from an inference perspective, and produces the same accuracy. However, folding the BN layers can increase the range of the tensor values for the weight parameters of the adjacent layers. And this can have a negative impact on the quantized accuracy of the model (especially when using INT8 or lower precision). So, we want to simulate that on-target behavior by doing BN folding here.\n",
    "\n",
    "The following code calls AIMET to fold the BN layers in-place on the given model"
   ]
  },
  {
   "cell_type": "code",
   "execution_count": null,
   "id": "3879d9fb",
   "metadata": {},
   "outputs": [],
   "source": [
    "from aimet_tensorflow.batch_norm_fold import fold_all_batch_norms\n",
    "\n",
    "BN_folded_sess, _ = fold_all_batch_norms(sess,\n",
    "                                         input_op_names=starting_op_names,\n",
    "                                         output_op_names=output_op_names)"
   ]
  },
  {
   "cell_type": "markdown",
   "id": "7adfba8d",
   "metadata": {},
   "source": [
    "---\n",
    "## Create Quantization Sim Model\n",
    "Now we use AIMET to create a QuantizationSimModel. This basically means that AIMET will insert fake quantization ops in the model graph and will configure them.\n",
    "A few of the parameters are explained here\n",
    "- **quant_scheme**: We set this to \"QuantScheme.post_training_tf_enhanced\"\n",
    "    - Supported options are 'tf_enhanced' or 'tf' or using Quant Scheme Enum QuantScheme.post_training_tf or QuantScheme.post_training_tf_enhanced\n",
    "- **default_output_bw**: Setting this to 8, essentially means that we are asking AIMET to perform all activation quantizations in the model using integer 8-bit precision\n",
    "- **default_param_bw**: Setting this to 8, essentially means that we are asking AIMET to perform all parameter quantizations in the model using integer 8-bit precision\n",
    "- **num_batches**: The number of batches used to evaluate the model while calculating the quantization encodings.Number of batches to use for computing encodings. Only 5 batches are used here to speed up the process. In addition, the number of images in these 5 batches should be sufficient for compute encodings\n",
    "- **rounding_mode**: The rounding mode used for quantization. There are two possible choices here - 'nearest' or 'stochastic' We will use \"nearest.\"\n",
    "\n",
    "There are other parameters that are set to default values in this example. Please check the AIMET API documentation of QuantizationSimModel to see reference documentation for all the parameters."
   ]
  },
  {
   "cell_type": "markdown",
   "id": "68ad3150",
   "metadata": {},
   "source": [
    "The next cell sets up the quantizer, and quantizes the model. The new session that contains all the changes to the graph is quantizer.session, and this is then evaluated on the dataset. Note that the quantizer uses the same evaluate function as the one defined in our data pipeline when computing the new weights."
   ]
  },
  {
   "cell_type": "code",
   "execution_count": null,
   "id": "7a8a06c5",
   "metadata": {},
   "outputs": [],
   "source": [
    "from aimet_common.defs import QuantScheme\n",
    "from aimet_tensorflow.quantsim import QuantizationSimModel\n",
    "    \n",
    "sim = QuantizationSimModel(session=BN_folded_sess,\n",
    "                           starting_op_names=starting_op_names,\n",
    "                           output_op_names=output_op_names,\n",
    "                           quant_scheme= QuantScheme.training_range_learning_with_tf_enhanced_init,\n",
    "                           rounding_mode=\"nearest\",\n",
    "                           default_output_bw=8,\n",
    "                           default_param_bw=8,\n",
    "                           use_cuda=use_cuda)\n"
   ]
  },
  {
   "cell_type": "markdown",
   "id": "b692e06d",
   "metadata": {},
   "source": [
    "---\n",
    "## Compute Encodings\n",
    "Even though AIMET has added 'quantizer' nodes to the model graph but the model is not ready to be used yet. Before we can use the sim model for inference or training, we need to find appropriate scale/offset quantization parameters for each 'quantizer' node. For activation quantization nodes, we need to pass unlabeled data samples through the model to collect range statistics which will then let AIMET calculate appropriate scale/offset quantization parameters. This process is sometimes referred to as calibration. AIMET simply refers to it as 'computing encodings'.\n",
    "\n",
    "So we create a routine to pass unlabeled data samples through the model. This should be fairly simple - use the existing train or validation data loader to extract some samples and pass them to the model. We don't need to compute any loss metric etc. So we can just ignore the model output for this purpose. A few pointers regarding the data samples\n",
    "\n",
    "In practice, we need a very small percentage of the overall data samples for computing encodings. For example, the training dataset for ImageNet has 1M samples. For computing encodings we only need 500 or 1000 samples.\n",
    "It may be beneficial if the samples used for computing encoding are well distributed. It's not necessary that all classes need to be covered etc. since we are only looking at the range of values at every layer activation. However, we definitely want to avoid an extreme scenario like all 'dark' or 'light' samples are used - e.g. only using pictures captured at night might not give ideal results.\n",
    "The following shows an example of a routine that passes unlabeled samples through the model for computing encodings. This routine can be written in many different ways, this is just an example."
   ]
  },
  {
   "cell_type": "code",
   "execution_count": null,
   "id": "fe4b6ebb",
   "metadata": {},
   "outputs": [],
   "source": [
    "def pass_calibration_data(session: tf.Session, _):\n",
    "    data_loader = ImageNetDataPipeline.get_val_dataloader()\n",
    "    batch_size = data_loader.batch_size\n",
    "\n",
    "    input_label_tensors = [session.graph.get_tensor_by_name('input_1:0'),\n",
    "                           session.graph.get_tensor_by_name('labels:0')]\n",
    "    \n",
    "    train_tensors = [session.graph.get_tensor_by_name('keras_learning_phase:0')]\n",
    "    train_tensors_dict = dict.fromkeys(train_tensors, False)\n",
    "    \n",
    "    eval_outputs = [session.graph.get_operation_by_name('top1-acc').outputs[0]]\n",
    "\n",
    "    samples = 500\n",
    "\n",
    "    batch_cntr = 0\n",
    "    for input_label in data_loader:\n",
    "        input_label_tensors_dict = dict(zip(input_label_tensors, input_label))\n",
    "\n",
    "        feed_dict = {**input_label_tensors_dict, **train_tensors_dict}\n",
    "\n",
    "        with session.graph.as_default():\n",
    "            _ = session.run(eval_outputs, feed_dict=feed_dict)\n",
    "\n",
    "        batch_cntr += 1\n",
    "        if (batch_cntr * batch_size) > samples:\n",
    "            break\n",
    "            "
   ]
  },
  {
   "cell_type": "markdown",
   "id": "c58b6107",
   "metadata": {},
   "source": [
    "---\n",
    "Now we call AIMET to use the above routine to pass data through the model and then subsequently compute the quantization encodings. Encodings here refer to scale/offset quantization parameters."
   ]
  },
  {
   "cell_type": "code",
   "execution_count": null,
   "id": "6ede0ff0",
   "metadata": {},
   "outputs": [],
   "source": [
    "sim.compute_encodings(forward_pass_callback=pass_calibration_data,\n",
    "                      forward_pass_callback_args=None)"
   ]
  },
  {
   "cell_type": "markdown",
   "id": "5323ed7a",
   "metadata": {},
   "source": [
    "---\n",
    "Now the QuantizationSim model is ready to be used for inference or training. First we can pass this model to the same evaluation routine we used before. The evaluation routine will now give us a simulated quantized accuracy score for INT8 quantization instead of the FP32 accuracy score we saw before."
   ]
  },
  {
   "cell_type": "code",
   "execution_count": null,
   "id": "cef1c8a2",
   "metadata": {},
   "outputs": [],
   "source": [
    "accuracy = ImageNetDataPipeline.evaluate(sim.model, use_cuda)\n",
    "print(accuracy)"
   ]
  },
  {
   "cell_type": "markdown",
   "id": "9cfaa11b",
   "metadata": {},
   "source": [
    "---\n",
    "## 4. 1 Cross Layer Equalization\n",
    "\n",
    "The next cell performs cross-layer equalization on the model. As noted before, the function folds batch norms, applies cross-layer scaling, and then folds high biases.\n",
    "\n",
    "**Note:** Interestingly, CLE needs BN statistics for its procedure. If a BN folded model is provided, CLE will run the CLS (cross-layer scaling) optimization step but will skip the HBA (high-bias absorption) step. To avoid this, we simply load the original model again before running CLE.\n",
    "\n",
    "**Note:** CLE equalizes the model in-place"
   ]
  },
  {
   "cell_type": "code",
   "execution_count": null,
   "id": "cd2ef6e8",
   "metadata": {},
   "outputs": [],
   "source": [
    "from aimet_tensorflow import cross_layer_equalization as aimet_cle\n",
    "\n",
    "cle_applied_sess = aimet_cle.equalize_model(sess,\n",
    "                                            start_op_names=start_op_names,\n",
    "                                            output_op_names=output_op_names)"
   ]
  },
  {
   "cell_type": "markdown",
   "id": "44e9d19e",
   "metadata": {},
   "source": [
    "---\n",
    "Now, we can determine the simulated quantized accuracy of the equalized model. We again create a simulation model like before and evaluate to determine simulated quantized accuracy."
   ]
  },
  {
   "cell_type": "code",
   "execution_count": null,
   "id": "7fa0d708",
   "metadata": {},
   "outputs": [],
   "source": [
    "sim = QuantizationSimModel(session=cle_applied_sess,\n",
    "                           starting_op_names=starting_op_names,\n",
    "                           output_op_names=output_op_names,\n",
    "                           quant_scheme= QuantScheme.training_range_learning_with_tf_enhanced_init,\n",
    "                           rounding_mode=\"nearest\",\n",
    "                           default_output_bw=8,\n",
    "                           default_param_bw=8,\n",
    "                           use_cuda=use_cuda)\n",
    "\n",
    "sim.compute_encodings(forward_pass_callback=pass_calibration_data,\n",
    "                      forward_pass_callback_args=None)\n",
    "\n",
    "accuracy = ImageNetDataPipeline.evaluate(sim.model, use_cuda)\n",
    "print(accuracy)"
   ]
  },
  {
   "cell_type": "markdown",
   "id": "c6f8149d",
   "metadata": {},
   "source": [
    "---\n",
    "## 4. 2 Bias Correction\n",
    "\n",
    "This section shows how we can apply AIMET Bias Correction on top of the already equalized model from the previous step. Bias correction under the hood uses a reference FP32 model and a QuantizationSimModel to perform its procedure. More details are explained in the AIMET User Guide documentation.\n",
    "\n",
    "For the correct_bias API, we pass the following parameters\n",
    "\n",
    "- **num_quant_samples**: Number of samples used for computing encodings. We are setting this to a low number here to speed up execution. A typical number would be 500-1000.\n",
    "- **num_bias_correct_samples**: Number of samples used for bias correction. We are setting this to a low number here to speed up execution. A typical number would be 1000-2000.\n",
    "- **data_loader**: BC uses unlabeled data samples from this data loader."
   ]
  },
  {
   "cell_type": "code",
   "execution_count": null,
   "id": "b5b41ae3",
   "metadata": {},
   "outputs": [],
   "source": [
    "from aimet_tensorflow import bias_correction as aimet_bc\n",
    "\n",
    "quant_params = aimet_bc.QuantParams(quant_mode= QuantScheme.post_training_tf_enhanced, round_mode=\"nearest\",\n",
    "                                    use_cuda=use_cuda, ops_to_ignore=[])\n",
    "bias_correction_params = aimet_bc.BiasCorrectionParams(batch_size=56,\n",
    "                                                       num_quant_samples=16,\n",
    "                                                       num_bias_correct_samples=16,\n",
    "                                                       input_op_names=start_op_names,\n",
    "                                                       output_op_names=output_op_names)\n",
    "\n",
    "after_bc_sess = aimet_bc.BiasCorrection.correct_bias(sess, bias_correct_params=bias_correction_params,\n",
    "                                                     quant_params=quant_params,\n",
    "                                                     data_set=data_loader.dataset)"
   ]
  },
  {
   "cell_type": "markdown",
   "id": "a90309ad",
   "metadata": {},
   "source": [
    "---\n",
    "Now, we can determine the simulated quantized accuracy of the bias-corrected model. We again create a simulation model like before and evaluate to determine simulated quantized accuracy."
   ]
  },
  {
   "cell_type": "code",
   "execution_count": null,
   "id": "442a2402",
   "metadata": {},
   "outputs": [],
   "source": [
    "sim = QuantizationSimModel(session=BN_folded_sess,\n",
    "                           starting_op_names=['input_1'],\n",
    "                           output_op_names=[model.output.name.split(\":\")[0]],\n",
    "                           quant_scheme= QuantScheme.training_range_learning_with_tf_enhanced_init,\n",
    "                           rounding_mode=\"nearest\",\n",
    "                           default_output_bw=8,\n",
    "                           default_param_bw=8,\n",
    "                           use_cuda=use_cuda)\n",
    "\n",
    "sim.compute_encodings(forward_pass_callback=pass_calibration_data,\n",
    "                      forward_pass_callback_args=None)\n",
    "\n",
    "accuracy = ImageNetDataPipeline.evaluate(sim.model, use_cuda)\n",
    "print(accuracy)"
   ]
  },
  {
   "cell_type": "markdown",
   "id": "f048b779",
   "metadata": {},
   "source": [
    "---\n",
    "Depending on your settings you may have observed a slight gain in accuracy after one epoch of training. Ofcourse, this was just an example. Please try this against the model of your choice and play with the hyper-parameters to get the best results.\n",
    "\n",
    "So we should have an improved model after QAT. Now the next step would be to actually take this model to target. For this purpose, we need to export the model with the updated weights without the fake quant ops. AIMET QuantizationSimModel provides an export API for this purpose. This API would save the model as #TODO"
   ]
  },
  {
   "cell_type": "code",
   "execution_count": null,
   "id": "602e4e56",
   "metadata": {},
   "outputs": [],
   "source": [
    "os.makedirs('./output/', exist_ok=True)\n",
    "sim.export(path='./output/', filename_prefix='resnet50_after_qat_range_learning')"
   ]
  },
  {
   "cell_type": "markdown",
   "id": "10b9cab9",
   "metadata": {},
   "source": [
    "---\n",
    "## Summary\n",
    "\n",
    "Hope this notebook was useful for you to understand how to use AIMET for performing Cross Layer Equalization (CLE) and Bias Correction (BC).\n",
    "\n",
    "Few additional resources\n",
    "- Refer to the AIMET API docs to know more details of the APIs and optional parameters\n",
    "- Refer to the other example notebooks to understand how to use AIMET post-training quantization techniques and QAT techniques"
   ]
  }
 ],
 "metadata": {
  "kernelspec": {
   "display_name": "Python 3",
   "language": "python",
   "name": "python3"
  },
  "language_info": {
   "codemirror_mode": {
    "name": "ipython",
    "version": 3
   },
   "file_extension": ".py",
   "mimetype": "text/x-python",
   "name": "python",
   "nbconvert_exporter": "python",
   "pygments_lexer": "ipython3",
   "version": "3.6.9"
  }
 },
 "nbformat": 4,
 "nbformat_minor": 5
}
